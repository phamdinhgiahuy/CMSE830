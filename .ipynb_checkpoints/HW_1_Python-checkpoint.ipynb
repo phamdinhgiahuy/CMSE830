{
 "cells": [
  {
   "cell_type": "markdown",
   "metadata": {
    "id": "GLkF7SgBhl-q"
   },
   "source": [
    "____\n",
    "# <font color=#FFBB00> HW #1: Data Science and (a little) Python </font>\n",
    "____\n",
    "\n",
    "This HW is due at midnight Friday in D2L. Remember that HWs are not done in groups, but _on your own_. However, if you need help, you are free to use the internet, other students in the class or the instructors.\n",
    "\n",
    "If you have general questions or interesting insights/tricks, please post them on Slack."
   ]
  },
  {
   "cell_type": "markdown",
   "metadata": {
    "id": "9mIh0pvHscHy"
   },
   "source": [
    "____\n",
    "\n",
    "### Markdown\n",
    "\n",
    "This HW uses a lot of markdown. Knowing markdown well will make your Jupyter notebook life a lot more fun. And, you can use markdown for many other tasks that have nothing to do with Jupyter notebooks - it's a general way to format text. For example, when I want to do quick editing tasks, I very often use [a markdown editor like this one](https://macdown.uranusjr.com/). (If you use a Windows OS, there are equivalents that you can find in the link below.)\n",
    "\n",
    "Before you get started on the HW problems below, read these webpages:\n",
    "* [Markdown Guide](https://www.markdownguide.org/getting-started/)\n",
    "* [Basic Syntax](https://www.markdownguide.org/basic-syntax/)\n",
    "\n",
    "👨🏽‍🏫 You will notice that I am using several features of markdown to write this cell! If you open this markdown cell, you can see all of the commands I used.\n",
    "\n",
    "As you answer the questions below, use the features of markdown, such as lists, web links and [tables](https://www.tablesgenerator.com/markdown_tables).\n",
    "\n",
    "👩🏽‍💻 Once you are done learning markdown well, continue to the HW below. **Important:** problem 11 is much more involved than the others, so you might start with that.\n",
    "____"
   ]
  },
  {
   "cell_type": "markdown",
   "metadata": {
    "id": "aNSTybvtj2Wq"
   },
   "source": [
    "✍🏼 **Problem 1**: Read the syllabus for this class and answer the following two questions. Open a markdown cell below this one to put your answers.\n",
    "1. What is the late policy for this class?\n",
    "2. Describe in your own words the Spartan Code of Honor."
   ]
  },
  {
   "cell_type": "markdown",
   "metadata": {
    "id": "f2THRB5GkYJm"
   },
   "source": [
    "✍🏼 **Problem 2**: Define these terms in your own words, again in a new markdown cell. Discuss how they might be used differently in a data science context.\n",
    "* cardinal number\n",
    "* ordinal number\n",
    "* nominal number"
   ]
  },
  {
   "cell_type": "markdown",
   "metadata": {
    "id": "Q_W_u5ijk7Z1"
   },
   "source": [
    "✍🏼 **Problem 3**: Write a paragraph about John W. Tukey. You can use the class sides, but also Wikipedia or any other source. Why is he important to data science? Open a markdown cell below this one to put your discussion."
   ]
  },
  {
   "cell_type": "markdown",
   "metadata": {
    "id": "gMEK7m9mlJgH"
   },
   "source": [
    "✍🏼 **Problem 4**: Open a markdown cell and give your definition of data science."
   ]
  },
  {
   "cell_type": "markdown",
   "metadata": {
    "id": "YKfrecQvmvOw"
   },
   "source": [
    "✍🏼 **Problem 5**: In a markdown cell below, write two sentences that use the term 'data' as:\n",
    "1. a plural noun,\n",
    "2. a mass noun."
   ]
  },
  {
   "cell_type": "markdown",
   "metadata": {
    "id": "pN51mh7PpvCp"
   },
   "source": [
    "✍🏼 **Problem 6**: Describe in your own words, in a new markdown cell, what a tuple, a list and an array are in Python. Why do we need all three of these? How are they similar? How are they different? What are the use cases for each?"
   ]
  },
  {
   "cell_type": "markdown",
   "metadata": {
    "id": "IOE70dE5qBZn"
   },
   "source": [
    "✍🏼 **Problem 7**: In a code cell, write code that creates a tuple of values. Print the contents. Then convert that tuple to a list, and print the list. Finally, convert the list to an array and print that. Give two cases where this procedure works and does not work."
   ]
  },
  {
   "cell_type": "markdown",
   "metadata": {
    "id": "cnIUMHApyB8p"
   },
   "source": [
    "✍🏼 **Problem 8**: A classic dataset you should be aware of is the \"mpg\" dataset, which stands for \"miles per gallon\". In a code cell below, input the mpg dataset, show a portion of the data, print statistics for each column and make a Seaborn pairplot using \"origin\" as the hue."
   ]
  },
  {
   "cell_type": "markdown",
   "metadata": {
    "id": "JRmDPE7M5Q0Y"
   },
   "source": [
    "✍🏼 **Problem 9**: Open a markdown cell below and discuss what you learned from the mpg dataset. Vary the pairplot to explore the data in different ways. Do you learn anything from the basic IDA process? Does the EDA process provide additional information? At the end of your general discussion, be sure to include:\n",
    "* What do you get from the data? That is, what did you learn that you did not already know?\n",
    "* Even if the data itself is not that interesting in itself, what uses might this dataset have as practice for doing data science?"
   ]
  },
  {
   "cell_type": "markdown",
   "metadata": {
    "id": "QkpvCph7zawJ"
   },
   "source": [
    "✍🏼 **Problem 10**: Perhaps the most popular dataset of all time is the \"iris\" dataset. This is a dataset you should know in great detail, as it appears everywhere. Repeat the previous problem, but now for the \"iris\" dataset."
   ]
  },
  {
   "cell_type": "markdown",
   "metadata": {
    "id": "iwRqAdioPRc_"
   },
   "source": [
    "✍🏼 **Problem 11**: This problem is the most difficult: be sure to give yourself plenty of time to work on it.\n",
    "\n",
    "If you get stuck, put your questions in the general channel on Slack so that other students can help and learn from you.\n",
    "\n",
    "There are two goals of this problem:\n",
    "1. develop your ability to manage new Python libraries on your computer,\n",
    "2. begin the first steps of building a DS-based web app for your midterm project.\n",
    "\n",
    "The reason this will be challenging is that:\n",
    "* you have some choices to make that will be unique to you,\n",
    "* your computer, its operating system and your library distributions are not necessarily like other students'.\n",
    "\n",
    "Here are the steps  to follow:\n",
    "1. If you don't have one already, put a text editor on your computer. There are many to choose from: [Sublime](https://www.sublimetext.com/), [VSCode](https://code.visualstudio.com/), and so on. There are many times when using a Jupyter notebook, as amazing as they are, won't work. If you haven't used any of these editors, I recommend getting a few so that you can compare them. The choice is often very personal, which is why I am giving you the opportunity to explore and choose the best one for you.\n",
    "2. Be sure that you can work at the command line. How this works differs greatly from computer to computer. For example, on a Mac you always use the [Terminal](https://en.wikipedia.org/wiki/Terminal_(macOS)). As with the editors, there are many choices, [like this](https://iterm2.com/).  If you are a windows user, you definitely want to [read this](https://www.makeuseof.com/tag/a-beginners-guide-to-the-windows-command-line/). Together, the editor and the command line will allow you to execute `.py` files, which can be really useful if you are using another computer (such as a cluster located somewhere else, such as MSU's HPCC facility).\n",
    "3. Once those two steps are done, open the editor you chose and put this code in it, giving it any name you want, but ending with `.py`:\n",
    "```\n",
    "import streamlit as st\n",
    "import seaborn as sns\n",
    "import pandas as pd\n",
    "from sklearn.datasets import load_wine\n",
    "import altair as alt\n",
    "wine_data = load_wine()\n",
    "labels = wine_data.feature_names\n",
    "targets = wine_data.target\n",
    "print(labels)\n",
    "df_form = pd.DataFrame(wine_data.data, columns = labels)\n",
    "df_form['targets'] = targets\n",
    "st.write(\"\"\"\n",
    "# Italian Wine Dataset\n",
    "How are malic acid and alcohol correlated in Italian wines?\n",
    "\"\"\")\n",
    "alt_handle = alt.Chart(df_form).mark_circle(size=60).encode(x='alcohol', y='malic_acid',\n",
    "\tcolor='hue', tooltip=['ash', 'magnesium',\n",
    "\t'proanthocyanins']).interactive()\n",
    "st.altair_chart(alt_handle)\n",
    "```\n",
    "Note that you will likely have to install some libraries on your computer.\n",
    "4. At the command line, run your file using `streamlit run name.py`, where `name` is whatever name you chose for your file in your editor. An interactive web app should appear in your browser. Don't worry about the details at this point, which we will cover later in the course: the goal for this HW is just to **get your computer setup properly** for deployable interactive DS apps.\n",
    "5. In a markdown cell, put the answers to these questions:\n",
    "* which editor(s) did you choose, and why?\n",
    "* what did you decide to use for your command line? (e.g., are you on OSX and using the built-in `Terminal`?)\n",
    "* did you have any problems installing the libraries, such as `streamlit` and `altair`?\n",
    "* yes or no, did you get the interactive app working? if not, give details of your situation (i.e., your computer, what you tried, what you saw), so that we can fix the problems for next time.\n",
    "\n",
    "Again, if you have issues, post your questions. Everyone has a different background in setting up their computer and every computer is different.\n",
    "\n",
    "Once you have it working: congrats on your first, tiny data science app!\n",
    "\n",
    "\n",
    "\n"
   ]
  }
 ],
 "metadata": {
  "colab": {
   "provenance": []
  },
  "kernelspec": {
   "display_name": "Python 3 (ipykernel)",
   "language": "python",
   "name": "python3"
  },
  "language_info": {
   "codemirror_mode": {
    "name": "ipython",
    "version": 3
   },
   "file_extension": ".py",
   "mimetype": "text/x-python",
   "name": "python",
   "nbconvert_exporter": "python",
   "pygments_lexer": "ipython3",
   "version": "3.9.12"
  }
 },
 "nbformat": 4,
 "nbformat_minor": 1
}
