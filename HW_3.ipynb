{
 "cells": [
  {
   "cell_type": "markdown",
   "metadata": {
    "id": "_DmlB5CrPLXz"
   },
   "source": [
    "### When you answer your questions, please use [emoji](https://getemoji.com/) and [good markdown](https://jupyter-notebook.readthedocs.io/en/stable/examples/Notebook/Working%20With%20Markdown%20Cells.html) so that it is easy for Mahyar to find your work and grade it. Thanks!"
   ]
  },
  {
   "cell_type": "markdown",
   "metadata": {
    "id": "uc-XGG8X_uM2"
   },
   "source": [
    "Be sure to put your name here:\n",
    "*  **Pham Dinh Gia Huy**\n"
   ]
  },
  {
   "cell_type": "markdown",
   "metadata": {
    "id": "DPxmji3rJRMv"
   },
   "source": [
    "____\n",
    "\n",
    "# HW #3\n",
    "\n",
    "____"
   ]
  },
  {
   "cell_type": "markdown",
   "metadata": {
    "id": "mdY21F46JbA1"
   },
   "source": [
    "____\n",
    "## GitHub\n",
    "\n",
    "It is important to have a public place to show your work, and GitHub (GH) is one of the standards you need to know for this. By the end of the semester you will have GH repos (repositories) for both of your projects. Among other goals, this will allow you to show off your work!\n",
    "\n",
    "I expect that the students in this class have very different experiences with GH, so this problem might be really short or really long.\n",
    "\n",
    "✍🏻 (5pts) First, make a GH account for yourself [here](https://github.com/). Put your GH account information in a markdown cell. If you already have a GH repo, you do not need to create a new one; just put the name in the markdown cell. Or, create a new account for this class. I would like to collect the projects in one place so that we can all see them, even after the class is over.\n",
    "\n",
    "If you want to brush up on GH, or learn it from scratch, I recommend watching some YouTube videos. I recommend [this one](https://www.youtube.com/watch?v=x0EYpi38Yp4), or [this one](https://www.youtube.com/watch?v=DVRQoVRzMIY) and this pair: [first one](https://www.youtube.com/watch?v=USjZcfj8yxE) and [second one](https://www.youtube.com/watch?v=nhNq2kIvi9s).\n",
    "\n",
    "If you have any questions, please ask us! We are here to help!\n",
    "\n",
    "✍🏻 (2 pts) Second, once you have your personal GH repo setup, practice by putting your web apps from this class there.\n",
    "\n",
    "Put a link to your web app here so that Mahyar can check to see that it worked."
   ]
  },
  {
   "cell_type": "markdown",
   "metadata": {},
   "source": [
    "👉 GH account: [Gia Huy GitHub😎](https://github.com/phamdinhgiahuy)\n",
    "\n",
    "👉 GH repo with CMSE previous Web app HW: "
   ]
  },
  {
   "cell_type": "markdown",
   "metadata": {
    "id": "iSH9PSc-Tywe"
   },
   "source": [
    "____\n",
    "## Project Practice\n",
    "\n",
    "This week you are going to practice for your midterm project. The midterm project is DS and the final project is machine learning (ML). What we want to explore in this problem is what we can do with DS.\n",
    "\n",
    "You will choose the topic of your project. This means:\n",
    "* you can use a dataset that you have from your job,\n",
    "* you can use a dataset that leads to a publication,\n",
    "* or, you can use a standard dataset if you don't have your own.\n",
    "\n",
    "The point is that this is flexible and can scale with each student. What I don't recommend is building your own dataset. While I would very much love to see that, there is a risk that it will take too long and possibly not lead to anything. (If you really want to do that, contact me!)\n",
    "\n",
    "Because the projects will be quite different, the instructions will be somewhat vague on purpose. But, here are the rules:\n",
    "1. use most of the tools of EDA,\n",
    "2. use visualization at a professional level (which we will cover soon),\n",
    "3. be as quantitive as possible, using statistical tools,\n",
    "4. have a question or goal in mind -- **a story**; or, if you explore a dataset, you should reach a new conclusion or observation about the dataset,\n",
    "5. the final result will be a web app that others can access. (I will walk you through using `streamlit` with `GitHub` and `Heroku`, but talk to me if you want to use any of the many other options.)\n",
    "\n",
    "✍🏻 (15 pts) Pick **three** datasets - your choice. You can find a lot of datasets [here](https://archive.ics.uci.edu/); search for topics that are of most interest to you. From these three datasets, write code to perform EDA on them and put that below. Below the EDA code cells for each dataset, open a markdown cell and write a paragraph that answers these questions:\n",
    "1. why did you pick this dataset?\n",
    "2. are there any interesting insights you gained from performing EDA on this dataset? (use all/most of the Seaborn tools we discussed this week)\n",
    "3. are there any actionable insights you can get from this data? (For example, if you were a CEO and looking at the mpg dataset, what might you conclude?)\n",
    "\n",
    "Finally, open a new markdown and discuss which of these three datasets would make the best project dataset. Were some of the datasets disappointing? Was one of the datasets much richer with possibilities? The reason you are asked to pick three is that some datasets is that you need to be able to assess which datasets are more or less interesting for your projects.\n",
    "\n",
    "[Here is an example you can follow that uses a wine dataset.](https://murillogroupmsu.com/wine/) It is also [at GH](https://gist.github.com/MurilloGroupMSU/678f61bbe225bdd166e8b946765d2931).\n"
   ]
  },
  {
   "cell_type": "markdown",
   "metadata": {
    "id": "6ZyIBBCJZMlI"
   },
   "source": [
    "____\n",
    "## Pandas Practice\n",
    "\n",
    "✍🏻  (10pts) From the standard penguins dataset, answer this question: what percentage of female penguins from Dream have a body mass greater than $4000$ grams? (Use only Pandas attributes and methods. Show your code as well as your answer.)\n",
    "\n",
    "[Hint.](https://pandas.pydata.org/docs/reference/api/pandas.DataFrame.groupby.html)"
   ]
  },
  {
   "cell_type": "code",
   "execution_count": 10,
   "metadata": {},
   "outputs": [],
   "source": [
    "import pandas as pd\n",
    "import seaborn as sns"
   ]
  },
  {
   "cell_type": "code",
   "execution_count": 36,
   "metadata": {},
   "outputs": [
    {
     "data": {
      "text/html": [
       "<div>\n",
       "<style scoped>\n",
       "    .dataframe tbody tr th:only-of-type {\n",
       "        vertical-align: middle;\n",
       "    }\n",
       "\n",
       "    .dataframe tbody tr th {\n",
       "        vertical-align: top;\n",
       "    }\n",
       "\n",
       "    .dataframe thead th {\n",
       "        text-align: right;\n",
       "    }\n",
       "</style>\n",
       "<table border=\"1\" class=\"dataframe\">\n",
       "  <thead>\n",
       "    <tr style=\"text-align: right;\">\n",
       "      <th></th>\n",
       "      <th>species</th>\n",
       "      <th>island</th>\n",
       "      <th>bill_length_mm</th>\n",
       "      <th>bill_depth_mm</th>\n",
       "      <th>flipper_length_mm</th>\n",
       "      <th>body_mass_g</th>\n",
       "      <th>sex</th>\n",
       "    </tr>\n",
       "  </thead>\n",
       "  <tbody>\n",
       "    <tr>\n",
       "      <th>0</th>\n",
       "      <td>Adelie</td>\n",
       "      <td>Torgersen</td>\n",
       "      <td>39.1</td>\n",
       "      <td>18.7</td>\n",
       "      <td>181.0</td>\n",
       "      <td>3750.0</td>\n",
       "      <td>Male</td>\n",
       "    </tr>\n",
       "    <tr>\n",
       "      <th>1</th>\n",
       "      <td>Adelie</td>\n",
       "      <td>Torgersen</td>\n",
       "      <td>39.5</td>\n",
       "      <td>17.4</td>\n",
       "      <td>186.0</td>\n",
       "      <td>3800.0</td>\n",
       "      <td>Female</td>\n",
       "    </tr>\n",
       "    <tr>\n",
       "      <th>2</th>\n",
       "      <td>Adelie</td>\n",
       "      <td>Torgersen</td>\n",
       "      <td>40.3</td>\n",
       "      <td>18.0</td>\n",
       "      <td>195.0</td>\n",
       "      <td>3250.0</td>\n",
       "      <td>Female</td>\n",
       "    </tr>\n",
       "    <tr>\n",
       "      <th>3</th>\n",
       "      <td>Adelie</td>\n",
       "      <td>Torgersen</td>\n",
       "      <td>NaN</td>\n",
       "      <td>NaN</td>\n",
       "      <td>NaN</td>\n",
       "      <td>NaN</td>\n",
       "      <td>NaN</td>\n",
       "    </tr>\n",
       "    <tr>\n",
       "      <th>4</th>\n",
       "      <td>Adelie</td>\n",
       "      <td>Torgersen</td>\n",
       "      <td>36.7</td>\n",
       "      <td>19.3</td>\n",
       "      <td>193.0</td>\n",
       "      <td>3450.0</td>\n",
       "      <td>Female</td>\n",
       "    </tr>\n",
       "  </tbody>\n",
       "</table>\n",
       "</div>"
      ],
      "text/plain": [
       "  species     island  bill_length_mm  bill_depth_mm  flipper_length_mm  \\\n",
       "0  Adelie  Torgersen            39.1           18.7              181.0   \n",
       "1  Adelie  Torgersen            39.5           17.4              186.0   \n",
       "2  Adelie  Torgersen            40.3           18.0              195.0   \n",
       "3  Adelie  Torgersen             NaN            NaN                NaN   \n",
       "4  Adelie  Torgersen            36.7           19.3              193.0   \n",
       "\n",
       "   body_mass_g     sex  \n",
       "0       3750.0    Male  \n",
       "1       3800.0  Female  \n",
       "2       3250.0  Female  \n",
       "3          NaN     NaN  \n",
       "4       3450.0  Female  "
      ]
     },
     "execution_count": 36,
     "metadata": {},
     "output_type": "execute_result"
    }
   ],
   "source": [
    "penguins_df = sns.load_dataset('penguins')\n",
    "penguins_df.head()"
   ]
  },
  {
   "cell_type": "code",
   "execution_count": 73,
   "metadata": {},
   "outputs": [
    {
     "name": "stdout",
     "output_type": "stream",
     "text": [
      "                   body_mass_g\n",
      "sex    island                 \n",
      "Female Dream  30         False\n",
      "              32         False\n",
      "              34         False\n",
      "              37         False\n",
      "              38         False\n",
      "...                        ...\n",
      "              211        False\n",
      "              213        False\n",
      "              214        False\n",
      "              216        False\n",
      "              219        False\n",
      "\n",
      "[61 rows x 1 columns]\n",
      "The percentage of female penguins from Dream have a body mass greater than 4000 grams is: 1.6666666666666667%\n"
     ]
    }
   ],
   "source": [
    "\n",
    "female_dream = penguins_df.loc[(penguins_df['sex'] == \"Female\") & (penguins_df['island'] == \"Dream\")]\n",
    "penguins_gt_4000 = female_dream[['sex', 'island', 'body_mass_g']].groupby(['sex', 'island'], dropna = True).apply(lambda x: x > 4000)\n",
    "print(penguins_gt_4000)\n",
    "\n",
    "count_penguins_gt_4000 = penguins_gt_4000.value_counts()\n",
    "prob = count_penguins_gt_4000[True]/count_penguins_gt_4000[False]\n",
    "print(f\"The percentage of female penguins from Dream have a body mass greater than 4000 grams is: {prob*100}%\")\n"
   ]
  },
  {
   "cell_type": "markdown",
   "metadata": {
    "id": "7rhJSnEAaqJ2"
   },
   "source": [
    "____\n",
    "## Python Practice\n",
    "\n",
    "✍🏻 (5 pts) Run each of these codes and explain what how keywords work in Python functions."
   ]
  },
  {
   "cell_type": "code",
   "execution_count": 2,
   "metadata": {
    "executionInfo": {
     "elapsed": 138,
     "status": "ok",
     "timestamp": 1694990667067,
     "user": {
      "displayName": "Michael Murillo",
      "userId": "04445914509865448303"
     },
     "user_tz": 240
    },
    "id": "YJVr5OjGSQ_i"
   },
   "outputs": [],
   "source": [
    "def who_I_am(name, class_number, department):\n",
    "  print(f\"Hello. My name is {name} and I am in {department} {class_number} this semester.\")\n",
    "\n",
    "def who_I_am_kw(name, class_number=830, department=\"CMSE\"):\n",
    "  print(f\"Hello. My name is {name} and I am in {department} {class_number} this semester.\")"
   ]
  },
  {
   "cell_type": "markdown",
   "metadata": {},
   "source": [
    "👉 the first function `who_I_am` takes 3 arguments `name`, `class_number`, and `department`, these 3 arguments are positional (the position of the inputed arguements when the function is called decide the value of the arguments variable)\n",
    "\n",
    "👉 the first function `who_I_am_kw` takes 1 positional argument: `name` and 2 keyword arguments:`class_number`, and `department`, the 2 keyword arguments have default value defined (if user doesnt put any value for these keyword arguments, they will take the default values)"
   ]
  },
  {
   "cell_type": "code",
   "execution_count": 3,
   "metadata": {
    "colab": {
     "base_uri": "https://localhost:8080/"
    },
    "executionInfo": {
     "elapsed": 170,
     "status": "ok",
     "timestamp": 1694990668136,
     "user": {
      "displayName": "Michael Murillo",
      "userId": "04445914509865448303"
     },
     "user_tz": 240
    },
    "id": "HTuhkNJ_Ta32",
    "outputId": "b098bf1b-59f0-46cb-d9df-43b985b389fd"
   },
   "outputs": [
    {
     "name": "stdout",
     "output_type": "stream",
     "text": [
      "Hello. My name is John and I am in CMSE 830 this semester.\n"
     ]
    }
   ],
   "source": [
    "who_I_am(\"John\", 830, \"CMSE\")"
   ]
  },
  {
   "cell_type": "markdown",
   "metadata": {},
   "source": [
    "👉 arguments values in this case:\n",
    "* `name = \"John\"` \n",
    "* `class_number = 830`\n",
    "* `departmen = \"CMSE\"`"
   ]
  },
  {
   "cell_type": "code",
   "execution_count": 5,
   "metadata": {
    "colab": {
     "base_uri": "https://localhost:8080/"
    },
    "executionInfo": {
     "elapsed": 164,
     "status": "ok",
     "timestamp": 1694990669062,
     "user": {
      "displayName": "Michael Murillo",
      "userId": "04445914509865448303"
     },
     "user_tz": 240
    },
    "id": "xd66hzivTmkm",
    "outputId": "5c02c9f2-4b4a-4e1a-e844-b8545c73e8d0"
   },
   "outputs": [
    {
     "name": "stdout",
     "output_type": "stream",
     "text": [
      "Hello. My name is 830 and I am in John CMSE this semester.\n"
     ]
    }
   ],
   "source": [
    "who_I_am(830, \"CMSE\", \"John\")"
   ]
  },
  {
   "cell_type": "markdown",
   "metadata": {},
   "source": [
    "👉 arguments values in this case:\n",
    "* `name = 830` \n",
    "* `class_number = \"CMSE\"`\n",
    "* `departmen = \"John\"`\n",
    "\n",
    "👉 when we don't assign the value explicitly (with `<argument_name> = <value>`) for the positional arguments, **position matters!**"
   ]
  },
  {
   "cell_type": "code",
   "execution_count": 6,
   "metadata": {
    "colab": {
     "base_uri": "https://localhost:8080/"
    },
    "executionInfo": {
     "elapsed": 5,
     "status": "ok",
     "timestamp": 1694990669325,
     "user": {
      "displayName": "Michael Murillo",
      "userId": "04445914509865448303"
     },
     "user_tz": 240
    },
    "id": "vbgm1XItTugt",
    "outputId": "bfdba07e-eb65-41dc-9205-01c9e3dcad79"
   },
   "outputs": [
    {
     "name": "stdout",
     "output_type": "stream",
     "text": [
      "Hello. My name is John and I am in CMSE 830 this semester.\n"
     ]
    }
   ],
   "source": [
    "who_I_am(name = \"John\", class_number = 830, department = \"CMSE\")"
   ]
  },
  {
   "cell_type": "markdown",
   "metadata": {},
   "source": [
    "👉 arguments values in this case:\n",
    "* `name = \"John\"` \n",
    "* `class_number = 830`\n",
    "* `departmen = \"CMSE\"`\n"
   ]
  },
  {
   "cell_type": "code",
   "execution_count": 7,
   "metadata": {
    "colab": {
     "base_uri": "https://localhost:8080/"
    },
    "executionInfo": {
     "elapsed": 4,
     "status": "ok",
     "timestamp": 1694990669792,
     "user": {
      "displayName": "Michael Murillo",
      "userId": "04445914509865448303"
     },
     "user_tz": 240
    },
    "id": "0bKsD7IMT1Bl",
    "outputId": "1752fdbf-7f65-4ae5-c811-36cc6c8978cc"
   },
   "outputs": [
    {
     "name": "stdout",
     "output_type": "stream",
     "text": [
      "Hello. My name is John and I am in CMSE 830 this semester.\n"
     ]
    }
   ],
   "source": [
    "who_I_am(department = \"CMSE\", class_number = 830, name = \"John\")"
   ]
  },
  {
   "cell_type": "markdown",
   "metadata": {},
   "source": [
    "👉 arguments values in this case:\n",
    "* `name = \"John\"` \n",
    "* `class_number = 830`\n",
    "* `departmen = \"CMSE\"`\n",
    "\n",
    "👉 when we assign the value explicitly (with `<argument_name> = <value>`) for the positional arguments position doesn't matter now. The function know which values go to which arguement"
   ]
  },
  {
   "cell_type": "code",
   "execution_count": 8,
   "metadata": {
    "colab": {
     "base_uri": "https://localhost:8080/"
    },
    "executionInfo": {
     "elapsed": 4,
     "status": "ok",
     "timestamp": 1694990670088,
     "user": {
      "displayName": "Michael Murillo",
      "userId": "04445914509865448303"
     },
     "user_tz": 240
    },
    "id": "TJMSSOwBUJs-",
    "outputId": "ff62b7fb-7eaf-47f3-bd3f-3220de210789"
   },
   "outputs": [
    {
     "name": "stdout",
     "output_type": "stream",
     "text": [
      "Hello. My name is Jack and I am in CMSE 830 this semester.\n"
     ]
    }
   ],
   "source": [
    "who_I_am_kw(\"Jack\")"
   ]
  },
  {
   "cell_type": "markdown",
   "metadata": {},
   "source": [
    "👉 arguments values in this case:\n",
    "* `name = \"Jack\"` \n",
    "* `class_number = 830` (default)\n",
    "* `departmen = \"CMSE\"` (default)\n",
    "\n",
    "👉 Since only the positional argument is inputed, the other 2 keyword arguments use their default values"
   ]
  },
  {
   "cell_type": "code",
   "execution_count": 9,
   "metadata": {
    "colab": {
     "base_uri": "https://localhost:8080/"
    },
    "executionInfo": {
     "elapsed": 369,
     "status": "ok",
     "timestamp": 1694990707680,
     "user": {
      "displayName": "Michael Murillo",
      "userId": "04445914509865448303"
     },
     "user_tz": 240
    },
    "id": "15B5uOaeUVGz",
    "outputId": "dc6d2e43-5452-4071-c7a5-d9ee84aac825"
   },
   "outputs": [
    {
     "name": "stdout",
     "output_type": "stream",
     "text": [
      "Hello. My name is Jack and I am in CMSE 123 this semester.\n"
     ]
    }
   ],
   "source": [
    "who_I_am_kw(\"Jack\", class_number = 123)"
   ]
  },
  {
   "cell_type": "markdown",
   "metadata": {},
   "source": [
    "👉 arguments values in this case:\n",
    "* `name = \"Jack\"` \n",
    "* `class_number = 123` \n",
    "* `departmen = \"CMSE\"` (default)\n",
    "\n",
    "👉 Now `class_number` is inputted, the default value is overriden by the new value `123`"
   ]
  },
  {
   "cell_type": "code",
   "execution_count": 4,
   "metadata": {
    "colab": {
     "base_uri": "https://localhost:8080/",
     "height": 146
    },
    "executionInfo": {
     "elapsed": 8,
     "status": "error",
     "timestamp": 1694990720797,
     "user": {
      "displayName": "Michael Murillo",
      "userId": "04445914509865448303"
     },
     "user_tz": 240
    },
    "id": "mFsLJcN5UbQ1",
    "outputId": "3098c242-d01b-468d-cbb8-a1547766fadc"
   },
   "outputs": [
    {
     "ename": "SyntaxError",
     "evalue": "positional argument follows keyword argument (2915810975.py, line 1)",
     "output_type": "error",
     "traceback": [
      "\u001b[1;36m  Cell \u001b[1;32mIn[4], line 1\u001b[1;36m\u001b[0m\n\u001b[1;33m    who_I_am_kw(class_number = 123, \"Jack\")\u001b[0m\n\u001b[1;37m                                          ^\u001b[0m\n\u001b[1;31mSyntaxError\u001b[0m\u001b[1;31m:\u001b[0m positional argument follows keyword argument\n"
     ]
    }
   ],
   "source": [
    "who_I_am_kw(class_number = 123, \"Jack\")"
   ]
  },
  {
   "cell_type": "markdown",
   "metadata": {},
   "source": [
    "👉 Turn out if we use both positional and keyword argument and decide not to explicitly assign values for positional arguments, they have to be called out before any keyword arguments assignment"
   ]
  },
  {
   "cell_type": "markdown",
   "metadata": {
    "id": "zTqEUUzV-7nD"
   },
   "source": [
    "____\n",
    "## PEP-8\n",
    "\n",
    "✍🏻 (5 pts) Which of these follows the [PEP-8 standard](https://peps.python.org/pep-0008/)?\n",
    "\n",
    "* `if x == 4 : print(x , y) ; x , y = y , x`\n",
    "* `if x == 4: print(x, y); x, y = y, x`\n",
    "* neither of these"
   ]
  },
  {
   "cell_type": "markdown",
   "metadata": {},
   "source": [
    "👉 the second option follows the `PEP-8` standard: \n",
    "* `if x == 4: print(x, y); x, y = y, x`"
   ]
  },
  {
   "cell_type": "markdown",
   "metadata": {
    "id": "o0VROWFEBbbU"
   },
   "source": [
    "____\n",
    "## EDA: Seaborn and Correlations\n",
    "\n",
    "✍🏻  (10pts) Read in the mpg dataset and perform EDA on it. Specifically:\n",
    "* get the basic statistics from the df,\n",
    "* make a `displot` of horsepower versus mpg, including a rug plot and with a kde,\n",
    "* make a Seaborn `heatmap` of the correlations using Pandas' `.corr`, with annotations and your choice of colormap,\n",
    "* make a `regplot` ([or, `lmplot`](https://seaborn.pydata.org/tutorial/regression.html)) of horsepower versus mpg using the lowess smoother; choose good colors,\n",
    "* design a `FacetGrid` of your choice.\n",
    "\n",
    "After each plot, open a markdown cell and give one sentence of what the plot tells you. That is, as a data scientist, what did this form of EDA reveal about the data? (If it didn't reveal anything to you, that is also an important possible answer.)"
   ]
  },
  {
   "cell_type": "code",
   "execution_count": null,
   "metadata": {},
   "outputs": [],
   "source": []
  }
 ],
 "metadata": {
  "colab": {
   "provenance": []
  },
  "kernelspec": {
   "display_name": "CMSE-830",
   "language": "python",
   "name": "cmse-830"
  },
  "language_info": {
   "codemirror_mode": {
    "name": "ipython",
    "version": 3
   },
   "file_extension": ".py",
   "mimetype": "text/x-python",
   "name": "python",
   "nbconvert_exporter": "python",
   "pygments_lexer": "ipython3",
   "version": "3.11.4"
  }
 },
 "nbformat": 4,
 "nbformat_minor": 1
}
