{
 "cells": [
  {
   "cell_type": "markdown",
   "metadata": {
    "id": "2_akGlPaoJ4Q"
   },
   "source": [
    "___\n",
    "# <font color=#00FF77> CMSE 830</font>\n",
    "## <font color=#00FF88> HW #4</font>\n",
    "\n",
    "____\n",
    "\n"
   ]
  },
  {
   "cell_type": "markdown",
   "metadata": {
    "id": "dkD_j46wLAi1"
   },
   "source": [
    "### Name:"
   ]
  },
  {
   "cell_type": "markdown",
   "metadata": {
    "id": "_5xAEs5soOOO"
   },
   "source": [
    "____\n",
    "![kde](https://blogs.sas.com/content/iml/files/2016/07/kdecomponents1.png)\n",
    "\n",
    "## Problem #1 (10pts):\n",
    "### KDE and Rug Plots (from scratch!)\n",
    "\n",
    "You are earning some extra money working in a restaurant while you complete your data science degree. In a conversation with other employees, the topic of tips comes up: do people tip 15% or 20%? An \"argument\" breaks out before you interrupt and point out that there is a distribution of tips, not a fixed value. In fact, you propose that the distribution of tips is normally distributed. To your surprise, you learn that one of the waitresses is also a data scientist student who points out that there is no reason to believe that the distribution of tips is normal and that the mean and standard deviation have any meaning. You propose to answer these questions by building a KDE of tip data!\n",
    "\n",
    "✍🏻 For this problem, do **not** use a library to compute the KDE - do it yourself using basic Python. Your plot will be similar to the one above. Follow these steps:\n",
    "* get the standard \"tips\" dataset (which is in Seaborn)\n",
    "* compute the percentage tip from the data, and store those values in an array\n",
    "* in `matplotlib`, plot a vertical line from 0 to 1 for each tip percentage (there are many ways to do this, but an easy way is to use [`vlines`](https://matplotlib.org/3.1.1/api/_as_gen/matplotlib.pyplot.vlines.html)); you should have a vertical line marking each percentage tip in the dataset\n",
    "* adjust the figure so that you can view the data well, perhaps using something like `plt.figure(figsize=(20,5))`\n",
    "* from this plot, do you think that tips are normally distributed? why or why not?\n",
    "* write a function called `my_kde` that reads in three variables: the _x_ values you want to plot over (perhaps use `linspace` over the range of percentage tip), the array of percent tips _p_ you computed above and the width _w_ of the kernel; make your kernel have the form $$K(x,p) = \\exp(-(x - p)^2/2w^2)/(w\\sqrt{2\\pi})$$ and return the [sum of the kernels](https://en.wikipedia.org/wiki/Kernel_density_estimation) over all of the tip percentages (note that this will be an array over the _x_ values)\n",
    "* plot your kde with the vertical lines you produced above - note that the vertical lines (if you made them from _0_ to _1_) will be a rug plot,\n",
    "* make several plots with different values of the width _w_ (perhaps in the range _0.2_ to _6_); which value of _w_ is best?\n",
    "* using NumPy, compute the mean and standard deviation of the percent tips, construct a normal distribution from those values and add that to your plot: this is the best normal distribution the data suggests and it many or may not look like the KDE (hint: `plt.plot(x_vals, 100*np.exp(-(x_vals - np.mean(tip_perc))**2/(2*np.var(tip_perc)))/(np.std(tip_perc)*np.sqrt(2*np.pi)))`)\n",
    "* if you make your width _w_ too large, does the KDE predict anything impossible?\n",
    "* finally, answer the question: do you think this is a normal distribution? Would you arrive at a different conclusion depending on which width _w_ you pick? What is your conclusion to the original conversation in the restaurant? Do you see outliers? (Put discussion in a markdown cell.)\n",
    "\n",
    "\n",
    "\n",
    "_If you need a hint on some of the code, feel free to peek at the code below. If you use this code, add comments to indicate that you understand what it is doing, and be sure that it is PEP-8 compliant._\n"
   ]
  },
  {
   "cell_type": "code",
   "execution_count": null,
   "metadata": {
    "colab": {
     "base_uri": "https://localhost:8080/",
     "height": 432
    },
    "executionInfo": {
     "elapsed": 1021,
     "status": "ok",
     "timestamp": 1695639194160,
     "user": {
      "displayName": "Michael Murillo",
      "userId": "04445914509865448303"
     },
     "user_tz": 240
    },
    "id": "wY8YLbY6orRJ",
    "outputId": "11680259-0e05-4e9a-a6c3-e04b26b0bf67"
   },
   "outputs": [],
   "source": [
    "import seaborn as sns\n",
    "import numpy as np\n",
    "import matplotlib.pyplot as plt\n",
    "plt.figure(figsize=(20,5))\n",
    "\n",
    "df = sns.load_dataset(\"tips\")\n",
    "tip_perc = np.array(df[\"tip\"]/df[\"total_bill\"])*100\n",
    "\n",
    "\n",
    "def my_kde(x_vals, tips, width):\n",
    "\n",
    "  kde = np.zeros(len(x_vals))\n",
    "\n",
    "  for tip in tips:\n",
    "\n",
    "    kde += np.exp(-(x_vals - tip)**2/(2*width**2))/(np.sqrt(2*np.pi)*width)\n",
    "\n",
    "  return kde\n",
    "\n",
    "x_vals = np.linspace(0,75, 300)\n",
    "\n",
    "plt.plot(x_vals, my_kde(x_vals, tip_perc, 0.5), label=\"w=0.5\")\n",
    "plt.plot(x_vals, my_kde(x_vals, tip_perc, 1.0), label=\"w=1.0\")\n",
    "plt.plot(x_vals, my_kde(x_vals, tip_perc, 2.0), label=\"w=2.0\")\n",
    "plt.plot(x_vals, 100*np.exp(-(x_vals - np.mean(tip_perc))**2/(2*np.var(tip_perc)))/(np.std(tip_perc)*np.sqrt(2*np.pi)),\n",
    "         alpha = 0.4, label='normal')\n",
    "\n",
    "# rug plot\n",
    "plt.vlines(tip_perc, 0, 1, 'm', label='tip data')\n",
    "\n",
    "plt.grid(alpha=0.2)\n",
    "plt.title(\"KDE and Rug Plot for Tip Data\")\n",
    "plt.xlabel(\"% tip\")\n",
    "plt.ylabel(\"probability\")\n",
    "plt.legend()"
   ]
  },
  {
   "cell_type": "markdown",
   "metadata": {
    "id": "IMi3i4seEPED"
   },
   "source": [
    "____\n",
    "![project](https://miro.medium.com/max/1400/1*xf7i-aJrlKahzzfiM7Pxfw.png)\n",
    "## Problem #2 (10pts)\n",
    "\n",
    "### <font color=#839383>_choosing a topic for your project_</font>\n",
    "\n",
    "We are $\\frac{1}{4}$ done with the semester, which means we are $\\frac{1}{2}$ way to your midterm project.\n",
    "\n",
    "Your project should contain many technical, coding and visualization details. But, what is much more important is that there is a story. This week we will work on the story.\n",
    "\n",
    "Last week you examined several datasets that might be useful for your project. For this HW problem, you can use what you did last week; or, this is the time to choose different datasets if you didn't find last week's interesting or useful. After this week, you should decide on a dataset and stick with it at least through the midterm project.\n",
    "\n",
    "\n",
    "✍🏻 In a markdown cell below, answer these questions:\n",
    "* from a set of at least three datasets, discuss what they reveal to you,\n",
    "* what is interesting about these datasets from a science point of view?,\n",
    "* what is interesting about these datasets from a _data_ science point of view?\n",
    "* you will create a web app in Streamlit, placed at GitHub: what would a web app do for each of the datasets?,\n",
    "* you are not the user of your web app - you are creating it for someone you will never meet: what do you want them to get from the web app for each of these dataset?\n",
    "\n",
    "Based on these steps, which of the datasets is the more interesting to you for your project and why?\n",
    "\n",
    "The goal is for you to decide on a topic and know that it will be usable. Very often we have a project in mind for which there is no dataset available that allows us to do what we want. This is the time to ensure, through EDA on several datasets, that our project is realistic.\n",
    "\n",
    "If you choose one of the more common and simple datasets, such as MPG, Penguin or Iris, you need to have a very compelling reason for your choice. There is already a lot known on the web about these datasets and there is very little new you can do with them. "
   ]
  },
  {
   "cell_type": "markdown",
   "metadata": {
    "id": "IvWAZQSQDc_M"
   },
   "source": [
    "____\n",
    "![project](https://www.crosstab.io/articles/streamlit-review/worst_case_app.png)\n",
    "## Problem #3 (5pts)\n",
    "\n",
    "### <font color=#839383>more on Streamlit</font>\n",
    "\n",
    "From the previous problem, choose your favorite dataset - the one you are liking to use for the midterm project. Build that into a very simple Streamlit app.\n",
    "\n",
    "Do that by watching this video. Follow the video and build a web app as you are watching, but using the dataset you chose from the previous problem.\n",
    "\n",
    "The goal is that you start to connect the narrative associated with the data to what the purpose of the web app might be.\n",
    "\n",
    "If you are having any trouble with deploying Streamlit, please contact us on Slack.\n"
   ]
  },
  {
   "cell_type": "code",
   "execution_count": null,
   "metadata": {
    "colab": {
     "base_uri": "https://localhost:8080/",
     "height": 337
    },
    "executionInfo": {
     "elapsed": 126,
     "status": "ok",
     "timestamp": 1695641201818,
     "user": {
      "displayName": "Michael Murillo",
      "userId": "04445914509865448303"
     },
     "user_tz": 240
    },
    "id": "xTsi_9oNJrG-",
    "outputId": "786776e4-604f-49c2-87af-ab2370842c40"
   },
   "outputs": [],
   "source": [
    "%%HTML\n",
    "<iframe width=\"560\" height=\"315\" src=\"https://www.youtube.com/embed/_Um12_OlGgw?si=pYR7WmeChe7Xxpq5\" title=\"YouTube video player\" frameborder=\"0\" allow=\"accelerometer; autoplay; clipboard-write; encrypted-media; gyroscope; picture-in-picture; web-share\" allowfullscreen></iframe>\n"
   ]
  },
  {
   "cell_type": "markdown",
   "metadata": {
    "id": "no_H4L97LvQu"
   },
   "source": [
    "____\n",
    "![impute](https://www.mathworks.com/matlabcentral/mlc-downloads/downloads/submissions/60128/versions/2/screenshot.jpg)\n",
    "## Problem #4 (10pts)\n",
    "### missingness and imputation\n",
    "\n",
    "✍🏻 Open a markdown cell and answer these questions:\n",
    "1. define \"imputation\" in your own words,\n",
    "2. what is \"listwise deletion\" and what are two potential problems with using it?\n",
    "3. how is \"pairwise deletion\" different from \"listwise deletion\", and what problems might it have?\n",
    "4. define \"missingness\",\n",
    "5. what are the three main types of missingness?\n",
    "6. how is multiple imputation implemented?\n",
    "7. what is mean substitution, and what can go wrong?\n",
    "8. what is regression substitution, and what does it miss?\n",
    "9. what problem does stochastic regression solve?\n",
    "10. rank from best to worst: MAR, MCAR, MNAR\n"
   ]
  },
  {
   "cell_type": "markdown",
   "metadata": {
    "id": "_Xb_kreHfC09"
   },
   "source": [
    "___\n",
    "![bvg](https://scipython.com/static/media/uploads/blog/multivariate_gaussian/bivariate_gaussian.png)\n",
    "\n",
    "## Problem #5 (10pts)\n",
    "\n",
    "### surface, image and contour plots\n",
    "\n",
    "\n",
    "One of the most useful functions in data science is the Gaussian, which may be referred to as a \"normal distribution\". The Gaussian is central to the way we think about the mean and the standard deviation; and, because of its nice mathematical properties. Multivariate Gaussians appear in many data science models (e.g., machine learning models, such as Gaussian Process Regression).\n",
    "\n",
    "Importantly for data science, we want to always use functions in an arbitrary number of dimensions.  For a Gaussian, we would refer to such a function as a multivariate Gaussian. We will cover the mathemtical details later in the semester. Today, we only wish to visualize a multivariate Gaussian to help us understand certain types of plots.\n",
    "\n",
    "✍🏻 In `matplotlib` plot the Gaussian:\n",
    "$$ p(x) = \\frac{1}{w\\sqrt{2\\pi}}e^{-(x - μ)^2/2w^2}.$$\n",
    "Plot this function for several values of $μ$ and $w$; in a markdown cell, comment on the meaning of these two parameters. Be sure your plot has a title along the lines of \"Gaussian/Normal Distributions\".\n",
    "\n",
    "✍🏻 Next, make similar plots in 2D using a multivariate Gaussian:\n",
    "$$p(x,y) = \\frac{1}{w_xw_y 2\\pi }e^{-(x - \\mu_x)^2/2w_x^2-(y - \\mu_y)^2/2w_y^2}.$$\n",
    "This is a type of \"bivariate Gaussian\", because it is in 2D. In a markdown cell, write what $w_x$, $w_y$, $\\mu_x$ and $\\mu_y$ are. That is, what aspects of the bivariate Gaussian do they control? Make three types of plots:\n",
    "* surface plot,\n",
    "* contour plot,\n",
    "* image plot.\n",
    "\n",
    "Use the same values in each so that you can compare these plots. The idea is that you learn how to interpret different types of visualizations that contain the same information.\n",
    "\n",
    "Change the values of the parameters ($w_x$, $w_y$, $\\mu_x$ and $\\mu_y$) in several plots so that you can build your intuition for both bivariate Gaussians and what these three visualization types do.\n",
    "\n",
    "_If you need a hint on some of the code, feel free to peek at the code below. If you use this code, add comments to indicate that you understand what it is doing, and be sure that it is PEP-8 compliant._"
   ]
  },
  {
   "cell_type": "code",
   "execution_count": null,
   "metadata": {
    "colab": {
     "base_uri": "https://localhost:8080/",
     "height": 248
    },
    "executionInfo": {
     "elapsed": 1049,
     "status": "ok",
     "timestamp": 1665335880670,
     "user": {
      "displayName": "Vicente Amado Olivo",
      "userId": "06211665228838748236"
     },
     "user_tz": 240
    },
    "id": "DFjnD7WsKI_b",
    "outputId": "5b80586f-ef08-44ff-af87-ab4883bd32a9"
   },
   "outputs": [],
   "source": [
    "x = np.linspace(0, 5, 50)\n",
    "y = np.linspace(0, 5, 40)\n",
    "X, Y = np.meshgrid(x, y)\n",
    "\n",
    "mx = 2\n",
    "my = 3.5\n",
    "wx= 0.6\n",
    "wy= 0.6\n",
    "\n",
    "Z = np.exp(-(X-mx)**2/(2*wx**2) - (Y-my)**2/(2*wy**2))\n",
    "\n",
    "fig, ax = plt.subplots(subplot_kw={\"projection\": \"3d\"})\n",
    "surf = ax.plot_surface(X, Y, Z, cmap=\"plasma\", linewidth=0, antialiased=False)"
   ]
  },
  {
   "cell_type": "code",
   "execution_count": null,
   "metadata": {
    "colab": {
     "base_uri": "https://localhost:8080/",
     "height": 269
    },
    "executionInfo": {
     "elapsed": 999,
     "status": "ok",
     "timestamp": 1665335887158,
     "user": {
      "displayName": "Vicente Amado Olivo",
      "userId": "06211665228838748236"
     },
     "user_tz": 240
    },
    "id": "Ms6qgEVJ-80u",
    "outputId": "02f0bbf3-e137-4ab5-f7a0-41e9aa0a974c"
   },
   "outputs": [],
   "source": [
    "plt.contour(X, Y, Z, colors='black')\n",
    "plt.imshow(Z, extent=[0, 5, 0, 5], origin='lower', cmap='plasma');"
   ]
  },
  {
   "cell_type": "markdown",
   "metadata": {
    "id": "kyzaLUwk567h"
   },
   "source": [
    "____\n",
    "![box](https://cdn1.byjus.com/wp-content/uploads/2020/10/Box-Plot-and-Whisker-Plot-1.png)\n",
    "## Problem #6 (5pts)\n",
    "\n",
    "### Violins and Boxes\n",
    "\n",
    "✍🏻 Run the code below. In a markdown cell explain what the visualizations reveal to you. What story do you get? For example, why do you see the shapes that you see? How do you interpret these shapes? Do these two plots reveal the same information? Which one gives you more information?\n",
    "\n",
    "For your projects, you will want to choose the best visualization that tells the story you wish to tell."
   ]
  },
  {
   "cell_type": "code",
   "execution_count": null,
   "metadata": {
    "colab": {
     "base_uri": "https://localhost:8080/",
     "height": 759
    },
    "executionInfo": {
     "elapsed": 482,
     "status": "ok",
     "timestamp": 1664282021944,
     "user": {
      "displayName": "Michael Murillo",
      "userId": "04445914509865448303"
     },
     "user_tz": 240
    },
    "id": "4O58JMXa_D_d",
    "outputId": "a059de52-4216-4d9a-ada4-86c5c5acedc4"
   },
   "outputs": [],
   "source": [
    "df_iris = sns.load_dataset(\"iris\")\n",
    "\n",
    "sns.catplot(data=df_iris, kind=\"violin\")\n",
    "sns.catplot(data=df_iris, kind=\"box\")"
   ]
  }
 ],
 "metadata": {
  "colab": {
   "provenance": []
  },
  "kernelspec": {
   "display_name": "Python 3 (ipykernel)",
   "language": "python",
   "name": "python3"
  },
  "language_info": {
   "codemirror_mode": {
    "name": "ipython",
    "version": 3
   },
   "file_extension": ".py",
   "mimetype": "text/x-python",
   "name": "python",
   "nbconvert_exporter": "python",
   "pygments_lexer": "ipython3",
   "version": "3.9.12"
  }
 },
 "nbformat": 4,
 "nbformat_minor": 1
}
