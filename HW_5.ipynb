{
 "cells": [
  {
   "cell_type": "markdown",
   "metadata": {
    "id": "5IbuqtgLBVHE"
   },
   "source": [
    "___\n",
    "# <font color=#EEAA11> HW #5: Visualization </font>\n",
    "\n"
   ]
  },
  {
   "cell_type": "markdown",
   "metadata": {
    "id": "i0oH1LrGBi3B"
   },
   "source": [
    "____\n",
    "\n",
    "## <font color=#00BBFF> Problem #1 (10 pts) </font>\n",
    "\n",
    "In this problem you are going to explore making a parallel plot using Pandas. In general, the plotting in Pandas is not the best; but, sometimes you just want to do quick EDA only with Pandas without dealing with other libraries.\n",
    "\n",
    "🤓 Follow these steps:\n",
    "* pick a dataset and put it into a dataframe,\n",
    "* make a parallel plot using Pandas's `parallel_coordinates`,\n",
    "* make at least two versions by choosing how you color the lines, (e.g., coloring by a categorical variable),\n",
    "* think about what conclusions you would draw about your dataset from these explorations,\n",
    "* scale the data using a z-score, and remake the parallel plot,\n",
    "* does the scaling aid in the visualization process? if so, how? if not, why not? (the answer will depend on the dataset you choose! compare two datasets, and not penguins)\n",
    "\n",
    "____\n",
    "\n",
    "**If** you want some helper code, look the code below. **If** you use it, comment every line and ensure that it is PEP-8 compliant, and adapt it to your choice of dataset. (You might see if you can use the dataset you plan to use for your project, although it may not make sense in this context.)"
   ]
  },
  {
   "cell_type": "code",
   "execution_count": null,
   "metadata": {
    "colab": {
     "base_uri": "https://localhost:8080/",
     "height": 487
    },
    "executionInfo": {
     "elapsed": 4360,
     "status": "ok",
     "timestamp": 1696092947450,
     "user": {
      "displayName": "Michael Murillo",
      "userId": "04445914509865448303"
     },
     "user_tz": 240
    },
    "id": "cEmZD8IsySYN",
    "outputId": "9dfc2ff9-d33d-4b24-c8f2-71f500475ea3"
   },
   "outputs": [],
   "source": [
    "import seaborn as sns\n",
    "import pandas as pd\n",
    "from scipy.stats import zscore\n",
    "import numpy as np\n",
    "import matplotlib.pyplot as plt\n",
    "\n",
    "f, (a1,a2) = plt.subplots(ncols=2, nrows=1, figsize=(20,5))\n",
    "\n",
    "# choose the penguin dataset\n",
    "df_p = sns.load_dataset(\"penguins\").dropna()\n",
    "\n",
    "pd.plotting.parallel_coordinates(df_p[[\"species\", \"bill_length_mm\", \"bill_depth_mm\", \"flipper_length_mm\", \"body_mass_g\"]], \"species\", ax=a1)\n",
    "\n",
    "# another option\n",
    "#pd.plotting.parallel_coordinates(df_p[[\"sex\", \"bill_length_mm\",\t\"bill_depth_mm\",\t\"flipper_length_mm\",\t\"body_mass_g\"]], \"sex\",ax=a1)\n",
    "\n",
    "numeric_cols = df_p.select_dtypes(include=[np.number]).columns\n",
    "\n",
    "df_p_s = df_p[numeric_cols].apply(zscore)\n",
    "\n",
    "df_p_s[\"species\"] = df_p[\"species\"]\n",
    "pd.plotting.parallel_coordinates(df_p_s, \"species\", ax=a2)\n",
    "plt.title(\"with zscore\")\n",
    "\n",
    "#df_p_s[\"sex\"] = df_p[\"sex\"]\n",
    "#pd.plotting.parallel_coordinates(df_p_s[[\"sex\", \"bill_length_mm\",\t\"bill_depth_mm\",\t\"flipper_length_mm\",\t\"body_mass_g\"]], \"sex\",ax=a2)\n"
   ]
  },
  {
   "cell_type": "markdown",
   "metadata": {
    "id": "5HCrg_JMJhPK"
   },
   "source": [
    "____\n",
    "\n",
    "## <font color=#00BBFF>  Problem #2 (10) </font>\n",
    "\n",
    "Next, we are going to compare the previous result with HiPlot, which is a library specifically designed for exploring high-dimensional datasets. It tends to look better, have more features and _-- most importantly for EDA --_ it is interactive.\n",
    "\n",
    "🤓 Follow these steps:\n",
    "* install [HiPlot](https://github.com/facebookresearch/hiplot) on your machine,\n",
    "* read the documentation to understand how to use HiPlot with a dataframe,\n",
    "* open HiPlot in your notebook with a dataset you explored in the previous problem,\n",
    "* play with HiPlot so that you know how to use its most important features:\n",
    "  * how do you select a portion of one of the vertical axes?\n",
    "  * how do you slide the range box vertically to select different portions of the data?\n",
    "  * can you select (with the gray boxes) different ranges on different vertical axes?\n",
    "  * how do you reorder the vertical axes?\n",
    "  * what use the dataframe below the plot? what happens if you mouse over the rows?\n",
    "  * for your dataset, set the order of the vertical axes to correspond to a narrative/story, and describe that in a markdown cell - image you are using such a plot for your project and you want to tell a specific story.\n",
    "\n",
    "If you find HiPlot useful, consider using it in your project. [It works with streamlit.](https://facebookresearch.github.io/hiplot/tuto_streamlit.html)"
   ]
  },
  {
   "cell_type": "code",
   "execution_count": null,
   "metadata": {
    "colab": {
     "base_uri": "https://localhost:8080/"
    },
    "executionInfo": {
     "elapsed": 4934,
     "status": "ok",
     "timestamp": 1665080918504,
     "user": {
      "displayName": "Vicente Amado Olivo",
      "userId": "06211665228838748236"
     },
     "user_tz": 240
    },
    "id": "kZsivDs9JxqD",
    "outputId": "008c19c1-5f4b-4daa-8152-4c13d0614f3f"
   },
   "outputs": [],
   "source": [
    "!pip install -U -qqq hiplot # needed for Google colab\n",
    "import hiplot as hip\n",
    "print(f\"HiPlot=={hip.__version__}\")"
   ]
  },
  {
   "cell_type": "code",
   "execution_count": null,
   "metadata": {
    "colab": {
     "base_uri": "https://localhost:8080/",
     "height": 1000
    },
    "executionInfo": {
     "elapsed": 917,
     "status": "ok",
     "timestamp": 1665080919413,
     "user": {
      "displayName": "Vicente Amado Olivo",
      "userId": "06211665228838748236"
     },
     "user_tz": 240
    },
    "id": "qdpkRJVNCbaR",
    "outputId": "209aadf7-e341-4b95-8946-4d1a9824337e"
   },
   "outputs": [],
   "source": [
    "hip.Experiment.from_dataframe(df_p).display()"
   ]
  },
  {
   "cell_type": "markdown",
   "metadata": {
    "id": "fg6b6rwiNd6K"
   },
   "source": [
    "____\n",
    "\n",
    "## <font color=#00BBFF>  Problem #3 (30) </font>\n",
    "\n",
    "It is time to start working on your project!\n",
    "\n",
    "And, it is time to pay attention to the calendar! Your projects presentations will be the week of Oct. 16, which is only two weeks away. The following week is Fall Break. The next week, the week I am away, we will start diving more into the mathematics of data science.\n",
    "\n",
    "Hopefully the HWs have prepared you for your project. Here is the schedule:\n",
    "* just a reminder: I am out of town the week of October 30-November 3, but you'll have a guest instructor on probabilty and statistics; the week will be normal otherwise,\n",
    "* the next week (October 23 and 24) is Fall Break - we don't meet on Monday of that week,\n",
    "* your projects are due at the end of that week: in D2L by midnight on Friday, October 27th,\n",
    "* during the week of Oct. 16, you will present your projects to the other members of your class; the procedure will be:\n",
    "  * the presentations will happen on Wednesday, October 18th. the order of presentations will be random, so you might be presenting first on that day (be ready and arrive to the class on time! no excuses! 😉),\n",
    "  * for the presentations, we are going with 12 groups of 4 and 5, which will be announced by Mahyar on the day of presentation,\n",
    "  * during the presentations, you will listen to some of the presentations and interact (e.g., ask questions) with the person speaking,\n",
    "  * you will complete a report of the speakers that you listened to and turn that in (to D2L as a pdf file).\n",
    "\n",
    "So that you have a full, restful Fall Break, there will be no homework that week; and, your midterm project will have been completed the prior week.\n",
    "\n",
    "Here are the requirements for your project. Note that these requirements may not apply to each student perfectly, because you all have some flexibility in how you design your project. If there are any special issues with your project (e.g., the data is proprietary), please let me know so that we can work with your situation.\n",
    "* your project will be a streamlit app with two levels of interactivity:\n",
    "  * in streamlit (e.g., through sliders, dropdowns, etc.),\n",
    "  * in the visualizations themselves (e.g., using Altair or HiPlot),\n",
    "  * you must have a goal, a message, a story -- there should be a point to what you are doing,\n",
    "  * the app should contain any necessary text that aids the user to understand and explore your story,\n",
    "  * the app should be deployable from your code at Github, and your streamlit link should be sent to Mahyar by Wed before class (do not send the link for the Github repository).\n",
    "\n",
    "  A good example [is here](https://caron14-streamlit-linearregression-boston-house-prices-m9mvyd.streamlitapp.com) - try to be at least this complete in your app.\n",
    "\n",
    "  As always, please contact us, or use Slack, with any issues that arise!\n",
    "\n",
    "  🤓 For this HW, you are going to write an essay that is 500 to 1000 words. Use the [best markdown practices](https://www.markdownguide.org/cheat-sheet/), and put everything in a cell below. (You can use one plot, but no more.) What you will write is a proposal for your project. Include this in your proposal:\n",
    "  1. What is the goal, what is the point? What is the \"big-picture\" question you are trying to answer? Who cares? Why do they care?\n",
    "  2. Discuss which datasets you have looked at toward this goal. Which ones did you reject and why? Which dataset did you finally choose?\n",
    "  3. Describe the dataset. What is in it? Where did it come from? Are there issues, such as missingness? If so, what type (e.g., MNAR)?\n",
    "  4. What preliminary studies have you done? Do they look promising?\n",
    "  5. What will your web app do? How will this be useful to people?\n",
    "  6. What visualization tools do you plan on using? Why did you choose these? How will they serve the goal you outlined in step 1?\n",
    "  7. Summarize with why you think this is a project worthy of completing.\n",
    "\n",
    "  In your writing, use the best rules of English grammar, punctuation and formatting. Be sure you edit the proposal a few times before submitting it. It should be very clear, easy to read and convincing.\n",
    "\n",
    "  Here is the logic I want you to have. The goal of the project is to present your data to someone else you don't know and who does not know very much about data science. You could imagine a scenario in which you work at a large company and are the data scientist. You are asked to design and build a web app for a mostly non-technical manager with the goal that they engage with the data as a \"dashboard\", perhaps as a way to report to them on what your team has done and why it is interesting an important. Thus, it is important that you understand the narrative that goes with your data, choose the best visualization to display your ideas, and layout the app in a way that is logical for a user you have never met.\n",
    "  \n",
    "\n"
   ]
  }
 ],
 "metadata": {
  "colab": {
   "provenance": []
  },
  "kernelspec": {
   "display_name": "CMSE-830",
   "language": "python",
   "name": "cmse-830"
  },
  "language_info": {
   "codemirror_mode": {
    "name": "ipython",
    "version": 3
   },
   "file_extension": ".py",
   "mimetype": "text/x-python",
   "name": "python",
   "nbconvert_exporter": "python",
   "pygments_lexer": "ipython3",
   "version": "3.11.4"
  }
 },
 "nbformat": 4,
 "nbformat_minor": 1
}
